{
 "cells": [
  {
   "cell_type": "code",
   "execution_count": null,
   "id": "bb64e82b-4acf-49ba-a837-2cec15a36029",
   "metadata": {},
   "outputs": [],
   "source": [
    "from bs4 import BeautifulSoup\n",
    "import requests\n",
    "\n",
    "url = \"https://nld.com.vn/\"\n",
    "response = requests.get(url)\n",
    "soup = BeautifulSoup(response.content, \"html.parser\")\n",
    "\n",
    "h3_tags = soup.find_all(\"h3\")\n",
    "for h3 in h3_tags:\n",
    "    print(h3.text)\n",
    "    links = h3.find_all(\"a\")\n",
    "    for link in links:\n",
    "        href = link.get(\"href\")\n",
    "        print(href)"
   ]
  },
  {
   "cell_type": "code",
   "execution_count": null,
   "id": "86d23d4f-8021-459e-8d6d-8253349f123b",
   "metadata": {},
   "outputs": [],
   "source": []
  },
  {
   "cell_type": "code",
   "execution_count": 2,
   "id": "6502e921-0517-42cd-a338-e3441222f049",
   "metadata": {},
   "outputs": [
    {
     "name": "stdout",
     "output_type": "stream",
     "text": [
      "của 52\n",
      "- 51\n",
      "người 32\n",
      "TP 28\n",
      "cho 26\n",
      "Công 25\n",
      "bị 25\n",
      "ở 25\n",
      "động 20\n",
      "trong 20\n"
     ]
    }
   ],
   "source": [
    "from bs4 import BeautifulSoup\n",
    "import requests\n",
    "from collections import Counter\n",
    "\n",
    "url = \"https://nld.com.vn/\"\n",
    "response = requests.get(url)\n",
    "soup = BeautifulSoup(response.content, \"html.parser\")\n",
    "\n",
    "# Lấy nội dung văn bản từ trang web\n",
    "text = soup.get_text()\n",
    "\n",
    "# Tách từ\n",
    "words = text.split()\n",
    "\n",
    "# Thống kê từ khóa\n",
    "word_counter = Counter(words)\n",
    "top_keywords = word_counter.most_common(10)\n",
    "\n",
    "# In kết quả\n",
    "for keyword, count in top_keywords:\n",
    "    print(keyword, count)"
   ]
  },
  {
   "cell_type": "code",
   "execution_count": null,
   "id": "0aeffc39-428e-4c58-974b-58a815d64c28",
   "metadata": {},
   "outputs": [],
   "source": [
    "#xemthu co truy cap vao trang web dc ko\n",
    "import requests\n",
    "\n",
    "url = \"https://nld.com.vn/\"\n",
    "response = requests.get(url)\n",
    "\n",
    "if response.status_code == 200:\n",
    "    print(\"Truy cập thành công vào trang web!\")\n",
    "    print(\"URL: \", response.url)\n",
    "    print(\"Nội dung trang web: \", response.text)\n",
    "else:\n",
    "    print(\"Truy cập không thành công. Mã trạng thái:\", response.status_code)\n"
   ]
  },
  {
   "cell_type": "code",
   "execution_count": null,
   "id": "49f60500-d1ae-45d5-8739-550441de1068",
   "metadata": {},
   "outputs": [],
   "source": [
    "#xemthu co truy cap vao trang web dc ko\n",
    "import requests\n",
    "\n",
    "url = \"https://nld.com.vn/\"\n",
    "response = requests.get(url)\n",
    "\n",
    "if response.status_code == 200:\n",
    "    print(\"Truy cập thành công vào trang web!\")\n",
    "    print(\"URL: \", response.url)\n",
    "    print(\"Nội dung trang web: \", response.text)\n",
    "else:\n",
    "    print(\"Truy cập không thành công. Mã trạng thái:\", response.status_code)\n"
   ]
  },
  {
   "cell_type": "code",
   "execution_count": null,
   "id": "b6958e76-aeba-4ed7-ad7e-8888b34a4ca6",
   "metadata": {},
   "outputs": [],
   "source": [
    "#xemthu co truy cap vao trang web dc ko\n",
    "import requests\n",
    "\n",
    "url = \"https://nld.com.vn/\"\n",
    "response = requests.get(url)\n",
    "\n",
    "if response.status_code == 200:\n",
    "    print(\"Truy cập thành công vào trang web!\")\n",
    "    print(\"URL: \", response.url)\n",
    "    print(\"Nội dung trang web: \", response.text)\n",
    "else:\n",
    "    print(\"Truy cập không thành công. Mã trạng thái:\", response.status_code)\n"
   ]
  },
  {
   "cell_type": "code",
   "execution_count": 11,
   "id": "8d1a737e-5c9b-4a84-99b5-863b6718ccd7",
   "metadata": {},
   "outputs": [],
   "source": [
    "#taocactieu de bai bao va url luu trong file xlsx de luu vao postgres\n",
    "import requests\n",
    "from bs4 import BeautifulSoup\n",
    "import pandas as pd\n",
    "\n",
    "url = \"https://nld.com.vn/\"\n",
    "response = requests.get(url)\n",
    "soup = BeautifulSoup(response.content, \"html.parser\")\n",
    "\n",
    "# Tìm các thẻ liên kết đến các bài báo trên trang web\n",
    "article_links = soup.find_all(\"a\")\n",
    "tonghop = []\n",
    "\n",
    "# Tạo danh sách các tiêu đề và URL của bài báo\n",
    "for link in article_links:\n",
    "    article_url = 'https://nld.com.vn/' + link.get(\"href\")\n",
    "    article_title = link.text.strip()\n",
    "    tonghop.append([article_title, article_url])\n",
    "\n",
    "# Tạo DataFrame từ danh sách thông tin bài báo\n",
    "df = pd.DataFrame(tonghop, columns=[\"Tiêu đề bài báo\", \"URL bài báo\"])\n",
    "\n",
    "# Lưu DataFrame vào file Excel\n",
    "df.to_excel(\"thongtin_baibao.xlsx\", index=False)\n",
    "df = df.dropna()"
   ]
  },
  {
   "cell_type": "code",
   "execution_count": 2,
   "id": "ffdcdf43-06fb-4ff4-baac-9de89048d668",
   "metadata": {},
   "outputs": [
    {
     "name": "stdout",
     "output_type": "stream",
     "text": [
      "Defaulting to user installation because normal site-packages is not writeable\n",
      "Collecting openpyxl\n",
      "  Downloading openpyxl-3.1.2-py2.py3-none-any.whl (249 kB)\n",
      "\u001b[2K     \u001b[38;2;114;156;31m━━━━━━━━━━━━━━━━━━━━━━━━━━━━━━━━━━━━━━━\u001b[0m \u001b[32m250.0/250.0 kB\u001b[0m \u001b[31m1.5 MB/s\u001b[0m eta \u001b[36m0:00:00\u001b[0m[36m0:00:01\u001b[0m[36m0:00:01\u001b[0m\n",
      "\u001b[?25hCollecting et-xmlfile (from openpyxl)\n",
      "  Downloading et_xmlfile-1.1.0-py3-none-any.whl (4.7 kB)\n",
      "Installing collected packages: et-xmlfile, openpyxl\n",
      "Successfully installed et-xmlfile-1.1.0 openpyxl-3.1.2\n"
     ]
    },
    {
     "data": {
      "image/png": "[encoded data removed]",
      "text/plain": [
       "<Figure size 640x480 with 1 Axes>"
      ]
     },
     "metadata": {},
     "output_type": "display_data"
    }
   ],
   "source": [
    "\n",
    "#thongketukhoachinh xuagt hien tu 1 trang web\n",
    "!pip install openpyxl\n",
    "import requests\n",
    "from bs4 import BeautifulSoup\n",
    "from collections import Counter\n",
    "import matplotlib.pyplot as plt\n",
    "\n",
    "# Tải nội dung của bài báo từ URL\n",
    "url = 'https://nld.com.vn/phap-luat/cong-an-tp-hcm-lat-tay-kho-hang-cua-ong-trum-ngo-tan-dat-20231104152843342.htm'\n",
    "response = requests.get(url)\n",
    "html_content = response.text\n",
    "\n",
    "# Phân tích cú pháp HTML\n",
    "soup = BeautifulSoup(html_content, 'html.parser')\n",
    "\n",
    "# Trích xuất văn bản từ các thẻ <p>\n",
    "paragraphs = soup.find_all('p')\n",
    "\n",
    "# Tạo danh sách các từ khóa từ văn bản\n",
    "keywords = []\n",
    "for paragraph in paragraphs:\n",
    "    text = paragraph.get_text()\n",
    "    words = text.split()\n",
    "    keywords.extend(words)\n",
    "\n",
    "# Đếm tần số xuất hiện của từng từ khóa\n",
    "keyword_counts = Counter(keywords)\n",
    "\n",
    "# Lấy 10 từ khóa xuất hiện nhiều nhất\n",
    "top_keywords = keyword_counts.most_common(10)\n",
    "\n",
    "# Tách các từ khóa và tần số xuất hiện thành 2 danh sách riêng\n",
    "keywords, counts = zip(*top_keywords)\n",
    "\n",
    "# Vẽ biểu đồ cột của các từ khóa và tần số xuất hiện\n",
    "plt.bar(keywords, counts)\n",
    "plt.xlabel('Từ khóa')\n",
    "plt.ylabel('Tần số xuất hiện')\n",
    "plt.title('Các từ khóa xuất hiện nhiều nhất trong bài báo')\n",
    "plt.xticks(rotation=45)\n",
    "plt.show()\n"
   ]
  },
  {
   "cell_type": "code",
   "execution_count": 3,
   "id": "7ab070e6-e5f8-43ea-a550-e6aa1e9f6574",
   "metadata": {},
   "outputs": [
    {
     "name": "stdout",
     "output_type": "stream",
     "text": [
      "Defaulting to user installation because normal site-packages is not writeable\n",
      "Requirement already satisfied: openpyxl in ./.local/lib/python3.10/site-packages (3.1.2)\n",
      "Requirement already satisfied: et-xmlfile in ./.local/lib/python3.10/site-packages (from openpyxl) (1.1.0)\n"
     ]
    }
   ],
   "source": [
    "!pip install openpyxl"
   ]
  },
  {
   "cell_type": "code",
   "execution_count": 2,
   "id": "28f748eb-b3c8-41b2-ac09-1ef3a70a8acb",
   "metadata": {},
   "outputs": [],
   "source": [
    "\n",
    "\n",
    "#import tieu de\n",
    "from bs4 import BeautifulSoup\n",
    "import requests\n",
    "import pandas as pd\n",
    "url = \"https://nld.com.vn/\"\n",
    "response = requests.get(url)\n",
    "soup = BeautifulSoup(response.content, \"html.parser\")\n",
    "titles = soup.find_all(\"div\", class_=\"item-news-thumb\")\n",
    "data = []\n",
    "for title in titles:\n",
    "    data.append(title.text.strip())\n",
    "df = pd.DataFrame(data, columns=[\"Tiêu đề\"])\n",
    "df.to_excel(\"data.xlsx\", index=False)\n"
   ]
  },
  {
   "cell_type": "code",
   "execution_count": null,
   "id": "5f23b160-060d-41e5-be3a-cede27d4c5c2",
   "metadata": {},
   "outputs": [],
   "source": []
  }
 ],
 "metadata": {
  "kernelspec": {
   "display_name": "Python 3 (ipykernel)",
   "language": "python",
   "name": "python3"
  },
  "language_info": {
   "codemirror_mode": {
    "name": "ipython",
    "version": 3
   },
   "file_extension": ".py",
   "mimetype": "text/x-python",
   "name": "python",
   "nbconvert_exporter": "python",
   "pygments_lexer": "ipython3",
   "version": "3.10.12"
  }
 },
 "nbformat": 4,
 "nbformat_minor": 5
}
